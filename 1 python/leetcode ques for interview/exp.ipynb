{
 "nbformat": 4,
 "nbformat_minor": 2,
 "metadata": {
  "language_info": {
   "name": "python",
   "codemirror_mode": {
    "name": "ipython",
    "version": 3
   },
   "version": "3.7.4-final"
  },
  "orig_nbformat": 2,
  "file_extension": ".py",
  "mimetype": "text/x-python",
  "name": "python",
  "npconvert_exporter": "python",
  "pygments_lexer": "ipython3",
  "version": 3,
  "kernelspec": {
   "name": "python37432bitf4cf56d2d11a47f9a18040b8fa4b3d70",
   "display_name": "Python 3.7.4 32-bit"
  }
 },
 "cells": [
  {
   "cell_type": "code",
   "execution_count": 8,
   "metadata": {
    "tags": []
   },
   "outputs": [
    {
     "output_type": "stream",
     "name": "stdout",
     "text": "\ni:  0\nnums:  [4, 1, 2, 1, 2]\ntemp:  4\n\ni:  1\nnums:  [4, 1, 2, 1, 2]\ntemp:  1\n---  [4, 2, 2]\n\ni:  2\nnums:  [4, 2, 2]\ntemp:  2\n---  [4]\n\ni:  3\nnums:  [4]\n"
    },
    {
     "output_type": "error",
     "ename": "IndexError",
     "evalue": "list index out of range",
     "traceback": [
      "\u001b[1;31m---------------------------------------------------------------------------\u001b[0m",
      "\u001b[1;31mIndexError\u001b[0m                                Traceback (most recent call last)",
      "\u001b[1;32m<ipython-input-8-a82fb04917a6>\u001b[0m in \u001b[0;36m<module>\u001b[1;34m\u001b[0m\n\u001b[0;32m      6\u001b[0m     \u001b[0mprint\u001b[0m\u001b[1;33m(\u001b[0m\u001b[1;34m\"nums: \"\u001b[0m\u001b[1;33m,\u001b[0m \u001b[0mnums\u001b[0m\u001b[1;33m)\u001b[0m\u001b[1;33m\u001b[0m\u001b[1;33m\u001b[0m\u001b[0m\n\u001b[0;32m      7\u001b[0m     \u001b[1;31m# if nums[i] == nums[-1]:\u001b[0m\u001b[1;33m\u001b[0m\u001b[1;33m\u001b[0m\u001b[1;33m\u001b[0m\u001b[0m\n\u001b[1;32m----> 8\u001b[1;33m     \u001b[0mtemp\u001b[0m \u001b[1;33m=\u001b[0m \u001b[0mnums\u001b[0m\u001b[1;33m[\u001b[0m\u001b[0mi\u001b[0m\u001b[1;33m]\u001b[0m\u001b[1;33m\u001b[0m\u001b[1;33m\u001b[0m\u001b[0m\n\u001b[0m\u001b[0;32m      9\u001b[0m     \u001b[0mprint\u001b[0m\u001b[1;33m(\u001b[0m\u001b[1;34m\"temp: \"\u001b[0m\u001b[1;33m,\u001b[0m\u001b[0mtemp\u001b[0m\u001b[1;33m)\u001b[0m\u001b[1;33m\u001b[0m\u001b[1;33m\u001b[0m\u001b[0m\n\u001b[0;32m     10\u001b[0m     \u001b[1;32mif\u001b[0m \u001b[0mtemp\u001b[0m \u001b[1;32min\u001b[0m \u001b[0mnums\u001b[0m\u001b[1;33m[\u001b[0m\u001b[1;33m:\u001b[0m\u001b[0mi\u001b[0m\u001b[1;33m]\u001b[0m \u001b[1;32mor\u001b[0m \u001b[0mtemp\u001b[0m \u001b[1;32min\u001b[0m \u001b[0mnums\u001b[0m\u001b[1;33m[\u001b[0m\u001b[0mi\u001b[0m\u001b[1;33m+\u001b[0m\u001b[1;36m1\u001b[0m\u001b[1;33m:\u001b[0m\u001b[1;33m]\u001b[0m\u001b[1;33m:\u001b[0m\u001b[1;33m\u001b[0m\u001b[1;33m\u001b[0m\u001b[0m\n",
      "\u001b[1;31mIndexError\u001b[0m: list index out of range"
     ]
    }
   ],
   "source": [
    "nums = [4,1,2,1,2]\n",
    "\n",
    "for i in range(len(nums)):\n",
    "    print(\"\\ni: \",i)\n",
    "# i=0\n",
    "    print(\"nums: \", nums)\n",
    "    # if nums[i] == nums[-1]:\n",
    "    temp = nums[i]\n",
    "    print(\"temp: \",temp)\n",
    "    if temp in nums[:i] or temp in nums[i+1:]:\n",
    "        z=nums[i]\n",
    "        nums.remove(z)\n",
    "        nums.remove(z)\n",
    "        # nums.remove(nums[i])\n",
    "        print(\"--- \", nums)\n",
    "\n",
    "print(nums)\n"
   ]
  },
  {
   "cell_type": "code",
   "execution_count": 30,
   "metadata": {
    "tags": []
   },
   "outputs": [
    {
     "output_type": "stream",
     "name": "stdout",
     "text": "\ni:  0\nnums:  [17, 12, 5, -6, 12, 4, 17, -5, 2, -3, 2, 4, 5, 16, -3, -4, 15, 15, -4, -5, -6]\ntemp:  17\nres:  [12, 5, -6, 12, 4, -5, 2, -3, 2, 4, 5, 16, -3, -4, 15, 15, -4, -5, -6]\nj:  0\n\ni:  1\nnums:  [12, 5, -6, 12, 4, -5, 2, -3, 2, 4, 5, 16, -3, -4, 15, 15, -4, -5, -6]\ntemp:  12\nres:  [5, -6, 4, -5, 2, -3, 2, 4, 5, 16, -3, -4, 15, 15, -4, -5, -6]\nj:  1\n\ni:  2\nnums:  [5, -6, 4, -5, 2, -3, 2, 4, 5, 16, -3, -4, 15, 15, -4, -5, -6]\ntemp:  5\nres:  [-6, 4, -5, 2, -3, 2, 4, 16, -3, -4, 15, 15, -4, -5, -6]\nj:  2\n\ni:  3\nnums:  [-6, 4, -5, 2, -3, 2, 4, 16, -3, -4, 15, 15, -4, -5, -6]\ntemp:  -6\nres:  [4, -5, 2, -3, 2, 4, 16, -3, -4, 15, 15, -4, -5]\nj:  3\n\ni:  4\nnums:  [4, -5, 2, -3, 2, 4, 16, -3, -4, 15, 15, -4, -5]\ntemp:  4\nres:  [-5, 2, -3, 2, 16, -3, -4, 15, 15, -4, -5]\nj:  4\n\ni:  5\nnums:  [-5, 2, -3, 2, 16, -3, -4, 15, 15, -4, -5]\ntemp:  -5\nres:  [2, -3, 2, 16, -3, -4, 15, 15, -4]\nj:  5\n\ni:  6\nnums:  [2, -3, 2, 16, -3, -4, 15, 15, -4]\ntemp:  2\nres:  [-3, 16, -3, -4, 15, 15, -4]\nj:  6\n\ni:  7\nnums:  [-3, 16, -3, -4, 15, 15, -4]\ntemp:  -3\nres:  [16, -4, 15, 15, -4]\nj:  7\n\ni:  8\nnums:  [16, -4, 15, 15, -4]\ntemp:  16\n\ni:  9\nnums:  [16, -4, 15, 15, -4]\ntemp:  -4\nres:  [16, 15, 15]\nj:  9\n\ni:  10\nnums:  [16, 15, 15]\ntemp:  15\nres:  [16]\nj:  10\n\ni:  11\nnums:  [16]\n[16]\n"
    }
   ],
   "source": [
    "nums = [17,12,5,-6,12,4,17,-5,2,-3,2,4,5,16,-3,-4,15,15,-4,-5,-6]\n",
    "\n",
    "j=-1\n",
    "for i in range(len(nums)):\n",
    "    j+=1\n",
    "    print(\"\\ni: \",i)\n",
    "    print(\"nums: \", nums)\n",
    "    if len(nums) == 1:\n",
    "        break\n",
    "    else:\n",
    "        temp = nums[j]\n",
    "        print(\"temp: \",temp)\n",
    "        if temp in nums[:j] or temp in nums[j+1:]:\n",
    "            nums.remove(nums.pop(j))\n",
    "            print(\"res: \", nums)\n",
    "            j-=1\n",
    "            print(\"j: \",i)\n",
    "\n",
    "\n",
    "print(nums)"
   ]
  },
  {
   "cell_type": "code",
   "execution_count": 14,
   "metadata": {
    "tags": []
   },
   "outputs": [
    {
     "output_type": "stream",
     "name": "stdout",
     "text": "10 helloworld\n"
    }
   ],
   "source": [
    "def fn1(n,s):\n",
    "\tprint(n*2,s)\n",
    "\t# print(s)\n",
    "\n",
    "fn1(5,\"helloworld\")"
   ]
  },
  {
   "cell_type": "code",
   "execution_count": null,
   "metadata": {},
   "outputs": [],
   "source": []
  }
 ]
}